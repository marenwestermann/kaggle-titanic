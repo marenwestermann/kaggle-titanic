{
 "cells": [
  {
   "cell_type": "markdown",
   "metadata": {},
   "source": [
    "# Survival prediction of titanic passengers"
   ]
  },
  {
   "cell_type": "markdown",
   "metadata": {},
   "source": [
    "---\n",
    "## Set up "
   ]
  },
  {
   "cell_type": "markdown",
   "metadata": {},
   "source": [
    "### Load modules"
   ]
  },
  {
   "cell_type": "code",
   "execution_count": null,
   "metadata": {
    "_cell_guid": "b1076dfc-b9ad-4769-8c92-a6c4dae69d19",
    "_uuid": "8f2839f25d086af736a60e9eeb907d3b93b6e0e5"
   },
   "outputs": [],
   "source": [
    "# libraries\n",
    "import numpy as np\n",
    "import pandas as pd\n",
    "from matplotlib import pyplot as plt\n",
    "\n",
    "#local modules\n",
    "from barplot import plot_barplot"
   ]
  },
  {
   "cell_type": "markdown",
   "metadata": {},
   "source": [
    "### Set display options"
   ]
  },
  {
   "cell_type": "code",
   "execution_count": null,
   "metadata": {},
   "outputs": [],
   "source": [
    "# allow multiple outputs per cell\n",
    "from IPython.core.interactiveshell import InteractiveShell\n",
    "InteractiveShell.ast_node_interactivity = \"all\"\n",
    "\n",
    "# Plot the Figures Inline\n",
    "%matplotlib inline\n",
    "\n",
    "# Prevent label cut off from figures \n",
    "from matplotlib import rcParams\n",
    "rcParams.update({'figure.autolayout': True})"
   ]
  },
  {
   "cell_type": "markdown",
   "metadata": {},
   "source": [
    "---\n",
    "## Data loader"
   ]
  },
  {
   "cell_type": "code",
   "execution_count": null,
   "metadata": {},
   "outputs": [],
   "source": [
    "# get metadata\n",
    "meta_data = pd.read_csv(\"data/metadata.csv\")\n",
    "meta_data"
   ]
  },
  {
   "cell_type": "code",
   "execution_count": null,
   "metadata": {},
   "outputs": [],
   "source": [
    "# load train data\n",
    "train_data = pd.read_csv(\"data/titanic-train.csv\")\n",
    "print(\"Shape: \", train_data.shape)\n",
    "train_data.head()"
   ]
  },
  {
   "cell_type": "code",
   "execution_count": null,
   "metadata": {},
   "outputs": [],
   "source": [
    "# load test data\n",
    "test_data = pd.read_csv(\"data/titanic-test.csv\")\n",
    "print(\"Shape: \", test_data.shape)\n",
    "test_data.head()"
   ]
  },
  {
   "cell_type": "markdown",
   "metadata": {},
   "source": [
    "---\n",
    "## Data exploration"
   ]
  },
  {
   "cell_type": "markdown",
   "metadata": {},
   "source": [
    "### Check if the datasets contain missing values"
   ]
  },
  {
   "cell_type": "code",
   "execution_count": null,
   "metadata": {},
   "outputs": [],
   "source": [
    "missing_values = pd.DataFrame({'Training set': train_data.isna().sum(), \n",
    "                               'Test set': test_data.isna().sum()})\n",
    "missing_values"
   ]
  },
  {
   "cell_type": "markdown",
   "metadata": {},
   "source": [
    "Conclusion: There are many missing values for the age of passengers and the cabin type. Therefore, these features will be excluded from the following analyses."
   ]
  },
  {
   "cell_type": "markdown",
   "metadata": {},
   "source": [
    "### Count the number of unique values of features of interest"
   ]
  },
  {
   "cell_type": "code",
   "execution_count": null,
   "metadata": {},
   "outputs": [],
   "source": [
    "train_data[\"Sex\"].nunique()\n",
    "train_data[\"SibSp\"].nunique()\n",
    "train_data[\"Parch\"].nunique()\n",
    "train_data[\"Fare\"].nunique()"
   ]
  },
  {
   "cell_type": "markdown",
   "metadata": {},
   "source": [
    "Conclusion: there are many different fares that are assumably associated with the ticket class. Let's check this: "
   ]
  },
  {
   "cell_type": "markdown",
   "metadata": {},
   "source": [
    "### Investigate fares"
   ]
  },
  {
   "cell_type": "code",
   "execution_count": null,
   "metadata": {},
   "outputs": [],
   "source": [
    "# check min and max prices of fares per class\n",
    "class1 = train_data.loc[train_data['Pclass'] == 1]\n",
    "print(\"Max fare class 1: \", class1[\"Fare\"].max())\n",
    "print(\"Min fare class 1: \",class1[\"Fare\"].min())\n",
    "print()\n",
    "\n",
    "class2 = train_data.loc[train_data['Pclass'] == 2]\n",
    "print(\"Max fare class 2: \", class2[\"Fare\"].max())\n",
    "print(\"Min fare class 2: \",class2[\"Fare\"].min())\n",
    "print()\n",
    "\n",
    "class3 = train_data.loc[train_data['Pclass'] == 3]\n",
    "print(\"Max fare class 3: \", class3[\"Fare\"].max())\n",
    "print(\"Min fare class 3: \",class3[\"Fare\"].min())"
   ]
  },
  {
   "cell_type": "code",
   "execution_count": null,
   "metadata": {},
   "outputs": [],
   "source": [
    "# plot fares per class as histograms\n",
    "data_list = [class1[\"Fare\"].to_numpy(), \n",
    "             class2[\"Fare\"].to_numpy(), \n",
    "             class3[\"Fare\"].to_numpy()]\n",
    "\n",
    "fig, ax = plt.subplots(1,len(data_list), figsize=(15, 5))\n",
    "for i, data in enumerate(data_list):\n",
    "    ax[i].hist(data, bins=20)\n",
    "    ax[i].set_title(f\"Class {i+1}\")\n",
    "    ax[i].set_xlabel(\"Fares\")\n",
    "    ax[i].set_ylabel(\"Frequency\")"
   ]
  },
  {
   "cell_type": "markdown",
   "metadata": {},
   "source": [
    "Conclusion: The fares of the 3 different classes overlap, especially the fares of class 2 and 3. It might therefore be more useful to predict survival rates depending on passenger class rather than fare. Let's check among the categorical features if there are categories that are (strongly) associated with survival rate."
   ]
  },
  {
   "cell_type": "markdown",
   "metadata": {},
   "source": [
    "### Investigate survival rates per categories"
   ]
  },
  {
   "cell_type": "markdown",
   "metadata": {},
   "source": [
    "#### Passenger class: "
   ]
  },
  {
   "cell_type": "code",
   "execution_count": null,
   "metadata": {},
   "outputs": [],
   "source": [
    "# save categories in list and convert them to string variables for plotting\n",
    "categories_class = list(map(str, train_data[\"Pclass\"].unique()))\n",
    "categories_class.sort()\n",
    "categories_class\n",
    "\n",
    "# calculate percentage of survivors per passenger class\n",
    "class1_surv = round(class1[\"Survived\"].sum()/len(class1[\"Survived\"])*100, 1)\n",
    "class2_surv = round(class2[\"Survived\"].sum()/len(class2[\"Survived\"])*100, 1)\n",
    "class3_surv = round(class3[\"Survived\"].sum()/len(class3[\"Survived\"])*100, 1)\n",
    "\n",
    "# store results in list\n",
    "survivors_per_class = [class1_surv, class2_surv, class3_surv]"
   ]
  },
  {
   "cell_type": "code",
   "execution_count": null,
   "metadata": {},
   "outputs": [],
   "source": [
    "# plot survivors per class\n",
    "plot_barplot(categories_class, \n",
    "             survivors_per_class, \n",
    "             title=\"Survivors per passenger class\", \n",
    "             xlabel=\"Passenger classes\")"
   ]
  },
  {
   "cell_type": "markdown",
   "metadata": {},
   "source": [
    "Conclusion: the survival rate seems to be correlated to the passenger class and therefore likely influences the prediction of survival.\n",
    "\n",
    "#### Gender:"
   ]
  },
  {
   "cell_type": "code",
   "execution_count": null,
   "metadata": {},
   "outputs": [],
   "source": [
    "# save categories in list\n",
    "categories_gender = list(map(str, train_data[\"Sex\"].unique()))\n",
    "categories_gender\n",
    "\n",
    "# calculate percentage of survivors per gender\n",
    "men = train_data.loc[train_data.Sex == 'male'][\"Survived\"].to_numpy()\n",
    "women = train_data.loc[train_data.Sex == 'female'][\"Survived\"].to_numpy()\n",
    "men_surv = round(sum(men)/len(men)*100, 1)\n",
    "women_surv = round(sum(women)/len(women)*100, 1)\n",
    "\n",
    "# store results in list\n",
    "survivors_per_gender = [men_surv, women_surv]"
   ]
  },
  {
   "cell_type": "code",
   "execution_count": null,
   "metadata": {},
   "outputs": [],
   "source": [
    "# plot survivors per gender\n",
    "plot_barplot(categories_gender, \n",
    "             survivors_per_gender, \n",
    "             title=\"Survivors per gender\", \n",
    "             xlabel=\"Gender\")"
   ]
  },
  {
   "cell_type": "markdown",
   "metadata": {},
   "source": [
    "Conclusion: the survival rate of women is much higher than the survival rate of men. Therefore, the gender likely has a strong influence on the prediction of survival.\n",
    "\n",
    "#### Number of siblings/ spouses aboard"
   ]
  },
  {
   "cell_type": "code",
   "execution_count": null,
   "metadata": {},
   "outputs": [],
   "source": [
    "# save categories in list\n",
    "categories_sibsp = list(train_data[\"SibSp\"].unique())\n",
    "categories_sibsp.sort()\n",
    "\n",
    "# calculate percentage of survivors per number of siblings/ spouses aboard\n",
    "# and save results in list\n",
    "survivors_per_sibsp = []\n",
    "for i in categories_sibsp:\n",
    "    sibsp = train_data.loc[train_data.SibSp == i][\"Survived\"].to_numpy()\n",
    "    survivors_per_sibsp.append(round(sum(sibsp)/len(sibsp)*100, 1))\n",
    "\n",
    "# convert categories to string variables for plotting\n",
    "categories_sibsp = list(map(str, categories_sibsp))\n",
    "categories_sibsp"
   ]
  },
  {
   "cell_type": "code",
   "execution_count": null,
   "metadata": {},
   "outputs": [],
   "source": [
    "# plot survivors per number of siblings/ spouses aboard\n",
    "plot_barplot(categories_sibsp, \n",
    "             survivors_per_sibsp, \n",
    "             title=\"Survivors per number of siblings/ spouses aboard\", \n",
    "             xlabel=\"Number of siblings/ spouses aboard\")"
   ]
  },
  {
   "cell_type": "markdown",
   "metadata": {},
   "source": [
    "Conclusion: The people with 1 or 2 siblings/ spouses aboard had the highest rate of survival. This could mean that these people had support from family members with getting a spot in one of the lifeboats. Therefore, the number of siblings/ spouses might be associated with the chance of survival.\n",
    "\n",
    "#### Number of parents/ children aboard"
   ]
  },
  {
   "cell_type": "code",
   "execution_count": null,
   "metadata": {},
   "outputs": [],
   "source": [
    "# save categories in list\n",
    "categories_parch = list(train_data[\"Parch\"].unique())\n",
    "categories_parch.sort()\n",
    "\n",
    "# calculate percentage of survivors per number of parents/ children aboard\n",
    "# and save results in list\n",
    "survivors_per_parch = []\n",
    "for i in categories_parch:\n",
    "    parch = train_data.loc[train_data.Parch == i][\"Survived\"].to_numpy()\n",
    "    survivors_per_parch.append(round(sum(parch)/len(parch)*100, 1))\n",
    "\n",
    "# convert categories to string variables for plotting\n",
    "categories_parch = list(map(str, categories_parch))\n",
    "categories_parch"
   ]
  },
  {
   "cell_type": "code",
   "execution_count": null,
   "metadata": {},
   "outputs": [],
   "source": [
    "# plot survivors per number of parents/ children aboard\n",
    "plot_barplot(categories_parch, \n",
    "             survivors_per_parch, \n",
    "             title=\"Survivors per number of parents/ children aboard\", \n",
    "             xlabel=\"Number of parents/ children aboard\")"
   ]
  },
  {
   "cell_type": "markdown",
   "metadata": {},
   "source": [
    "Conclusion: The people who had between 1 and 3 parents/ children aboard had the highest rate of survival. As above, this could mean that these people had support from family members with getting a spot in one of the lifeboats. Therefore, the number of parents/ children might be associated with the chance of survival.\n",
    "\n",
    "#### Port of embarkation"
   ]
  },
  {
   "cell_type": "code",
   "execution_count": null,
   "metadata": {},
   "outputs": [],
   "source": [
    "# save categories in list\n",
    "categories_embarked = list(map(str, train_data[\"Embarked\"].unique()))\n",
    "categories_embarked\n",
    "\n",
    "# calculate percentage of survivors per port of embarkation\n",
    "# note: leave out the two passengers of unknown port of embarkation\n",
    "survivors_per_port = []\n",
    "for i in categories_embarked[:3]:\n",
    "    port = train_data.loc[train_data.Embarked == i][\"Survived\"].to_numpy()\n",
    "    survivors_per_port.append(round(sum(port)/len(port)*100, 1))"
   ]
  },
  {
   "cell_type": "code",
   "execution_count": null,
   "metadata": {},
   "outputs": [],
   "source": [
    "# plot survivors per port of embarkation\n",
    "plot_barplot(categories_embarked[:3], \n",
    "             survivors_per_port, \n",
    "             title=\"Survivors per port of embarkation\", \n",
    "             xlabel=\"Port of embarkation\")"
   ]
  },
  {
   "cell_type": "markdown",
   "metadata": {},
   "source": [
    "Conclusion: the percentage of people who embarked in Cherbourg is higher compared to Southampton and Queenstown. This could be due to many first class passengers having embarked here. Let's check this: "
   ]
  },
  {
   "cell_type": "code",
   "execution_count": null,
   "metadata": {},
   "outputs": [],
   "source": []
  },
  {
   "cell_type": "code",
   "execution_count": null,
   "metadata": {},
   "outputs": [],
   "source": []
  },
  {
   "cell_type": "markdown",
   "metadata": {},
   "source": [
    "---\n",
    "## Models"
   ]
  },
  {
   "cell_type": "markdown",
   "metadata": {},
   "source": [
    "### Random forest model"
   ]
  },
  {
   "cell_type": "code",
   "execution_count": null,
   "metadata": {},
   "outputs": [],
   "source": [
    "from sklearn.ensemble import RandomForestClassifier\n",
    "\n",
    "y = train_data[\"Survived\"]\n",
    "\n",
    "features = [\"Pclass\", \"Sex\", \"SibSp\", \"Parch\"]\n",
    "X = pd.get_dummies(train_data[features])\n",
    "X_test = pd.get_dummies(test_data[features])\n",
    "\n",
    "model = RandomForestClassifier(n_estimators=100, max_depth=5, random_state=1)\n",
    "model.fit(X, y)\n",
    "predictions = model.predict(X_test)\n",
    "\n",
    "output = pd.DataFrame({'PassengerId': test_data.PassengerId, 'Survived': predictions})\n",
    "output.to_csv('my_submission.csv', index=False)"
   ]
  },
  {
   "cell_type": "code",
   "execution_count": null,
   "metadata": {},
   "outputs": [],
   "source": [
    "output"
   ]
  },
  {
   "cell_type": "code",
   "execution_count": null,
   "metadata": {},
   "outputs": [],
   "source": []
  },
  {
   "cell_type": "code",
   "execution_count": null,
   "metadata": {},
   "outputs": [],
   "source": []
  }
 ],
 "metadata": {
  "kernelspec": {
   "display_name": "Python 3",
   "language": "python",
   "name": "python3"
  },
  "language_info": {
   "codemirror_mode": {
    "name": "ipython",
    "version": 3
   },
   "file_extension": ".py",
   "mimetype": "text/x-python",
   "name": "python",
   "nbconvert_exporter": "python",
   "pygments_lexer": "ipython3",
   "version": "3.6.10"
  }
 },
 "nbformat": 4,
 "nbformat_minor": 4
}
